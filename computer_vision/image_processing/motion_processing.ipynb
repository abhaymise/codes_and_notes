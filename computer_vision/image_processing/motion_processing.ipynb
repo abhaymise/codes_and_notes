{
  "nbformat": 4,
  "nbformat_minor": 0,
  "metadata": {
    "colab": {
      "provenance": [],
      "authorship_tag": "ABX9TyMg7EXcXvaAmviJ2Z64IuiV",
      "include_colab_link": true
    },
    "kernelspec": {
      "name": "python3",
      "display_name": "Python 3"
    },
    "language_info": {
      "name": "python"
    }
  },
  "cells": [
    {
      "cell_type": "markdown",
      "metadata": {
        "id": "view-in-github",
        "colab_type": "text"
      },
      "source": [
        "<a href=\"https://colab.research.google.com/github/abhaymise/codes_and_notes/blob/main/image_processing/motion_processing.ipynb\" target=\"_parent\"><img src=\"https://colab.research.google.com/assets/colab-badge.svg\" alt=\"Open In Colab\"/></a>"
      ]
    },
    {
      "cell_type": "code",
      "source": [],
      "metadata": {
        "id": "8-t2J8r6b0F1"
      },
      "execution_count": null,
      "outputs": []
    },
    {
      "cell_type": "markdown",
      "source": [
        "# Bitrate"
      ],
      "metadata": {
        "id": "cXqm9Obnb05X"
      }
    },
    {
      "cell_type": "markdown",
      "source": [
        "# Optical flow"
      ],
      "metadata": {
        "id": "3NzTFK25bX5R"
      }
    },
    {
      "cell_type": "markdown",
      "source": [
        "# Scene Change Detection"
      ],
      "metadata": {
        "id": "9cwo3BfEbeNx"
      }
    },
    {
      "cell_type": "markdown",
      "source": [
        "# Key frame selection"
      ],
      "metadata": {
        "id": "mE2xuDfNbjUk"
      }
    },
    {
      "cell_type": "markdown",
      "source": [
        "# Motion detection"
      ],
      "metadata": {
        "id": "aCQwGPqwbri_"
      }
    },
    {
      "cell_type": "markdown",
      "source": [
        "# Tracking"
      ],
      "metadata": {
        "id": "0wlkBf4_bu2q"
      }
    },
    {
      "cell_type": "markdown",
      "source": [
        "# Activity recognition"
      ],
      "metadata": {
        "id": "V_ioGFQAcP6V"
      }
    },
    {
      "cell_type": "code",
      "source": [],
      "metadata": {
        "id": "JKmpg_nLbasU"
      },
      "execution_count": null,
      "outputs": []
    }
  ]
}